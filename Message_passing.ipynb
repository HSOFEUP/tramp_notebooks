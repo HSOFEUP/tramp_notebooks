{
 "cells": [
  {
   "cell_type": "markdown",
   "metadata": {},
   "source": [
    "# Message Passing"
   ]
  },
  {
   "cell_type": "markdown",
   "metadata": {},
   "source": [
    "## Setup"
   ]
  },
  {
   "cell_type": "code",
   "execution_count": 1,
   "metadata": {},
   "outputs": [],
   "source": [
    "%matplotlib inline\n",
    "import numpy as np\n",
    "from tramp.algos import DisplayLatexMessagePassing\n",
    "from IPython.display import display_latex\n",
    "from tramp.models import Perceptron, Committee, TVClassification\n",
    "from tramp.experiments import TeacherStudentScenario\n",
    "import logging\n",
    "logger = logging.getLogger()"
   ]
  },
  {
   "cell_type": "markdown",
   "metadata": {},
   "source": [
    "## Perceptron"
   ]
  },
  {
   "cell_type": "code",
   "execution_count": 2,
   "metadata": {},
   "outputs": [
    {
     "data": {
      "image/png": "[encoded data removed]",
      "text/plain": [
       "<matplotlib.figure.Figure at 0x1a163abef0>"
      ]
     },
     "metadata": {},
     "output_type": "display_data"
    }
   ],
   "source": [
    "perceptron = Perceptron(N=100, alpha=0.5, ensemble_type=\"gaussian\", p_pos=0.5)\n",
    "scenario = TeacherStudentScenario(perceptron)\n",
    "scenario.setup()\n",
    "scenario.student.daft()"
   ]
  },
  {
   "cell_type": "code",
   "execution_count": 3,
   "metadata": {},
   "outputs": [
    {
     "name": "stdout",
     "output_type": "stream",
     "text": [
      "FORWARD\n"
     ]
    },
    {
     "data": {
      "text/latex": [
       "$\\mathrm{incoming}\\;p_\\pm \\leftarrow x\\;\\mathrm{outcoming}\\;p_\\pm \\rightarrow x$"
      ]
     },
     "metadata": {},
     "output_type": "display_data"
    },
    {
     "data": {
      "text/latex": [
       "$\\mathrm{incoming}\\;p_\\pm \\rightarrow x \\leftarrow F\\;\\mathrm{outcoming}\\;x \\rightarrow F$"
      ]
     },
     "metadata": {},
     "output_type": "display_data"
    },
    {
     "data": {
      "text/latex": [
       "$\\mathrm{incoming}\\;x \\rightarrow F \\leftarrow z\\;\\mathrm{outcoming}\\;F \\rightarrow z$"
      ]
     },
     "metadata": {},
     "output_type": "display_data"
    },
    {
     "data": {
      "text/latex": [
       "$\\mathrm{incoming}\\;F \\rightarrow z \\leftarrow \\mathrm{sng}\\;\\mathrm{outcoming}\\;z \\rightarrow \\mathrm{sng}$"
      ]
     },
     "metadata": {},
     "output_type": "display_data"
    },
    {
     "data": {
      "text/latex": [
       "$\\mathrm{incoming}\\;z \\rightarrow \\mathrm{sng}\\;\\mathrm{outcoming}\\;$"
      ]
     },
     "metadata": {},
     "output_type": "display_data"
    },
    {
     "name": "stdout",
     "output_type": "stream",
     "text": [
      "BACKWARD\n"
     ]
    },
    {
     "data": {
      "text/latex": [
       "$\\mathrm{incoming}\\;z \\rightarrow \\mathrm{sng}\\;\\mathrm{outcoming}\\;z \\leftarrow \\mathrm{sng}$"
      ]
     },
     "metadata": {},
     "output_type": "display_data"
    },
    {
     "data": {
      "text/latex": [
       "$\\mathrm{incoming}\\;F \\rightarrow z \\leftarrow \\mathrm{sng}\\;\\mathrm{outcoming}\\;F \\leftarrow z$"
      ]
     },
     "metadata": {},
     "output_type": "display_data"
    },
    {
     "data": {
      "text/latex": [
       "$\\mathrm{incoming}\\;x \\rightarrow F \\leftarrow z\\;\\mathrm{outcoming}\\;x \\leftarrow F$"
      ]
     },
     "metadata": {},
     "output_type": "display_data"
    },
    {
     "data": {
      "text/latex": [
       "$\\mathrm{incoming}\\;p_\\pm \\rightarrow x \\leftarrow F\\;\\mathrm{outcoming}\\;p_\\pm \\leftarrow x$"
      ]
     },
     "metadata": {},
     "output_type": "display_data"
    },
    {
     "data": {
      "text/latex": [
       "$\\mathrm{incoming}\\;p_\\pm \\leftarrow x\\;\\mathrm{outcoming}\\;$"
      ]
     },
     "metadata": {},
     "output_type": "display_data"
    }
   ],
   "source": [
    "latex = DisplayLatexMessagePassing(scenario.student).run()\n",
    "print(\"FORWARD\")\n",
    "for msg in latex[\"forward\"]:\n",
    "    display_latex(msg, raw=True)\n",
    "print(\"BACKWARD\")\n",
    "for msg in latex[\"backward\"]:\n",
    "    display_latex(msg, raw=True)"
   ]
  },
  {
   "cell_type": "markdown",
   "metadata": {},
   "source": [
    "## Committee"
   ]
  },
  {
   "cell_type": "code",
   "execution_count": 4,
   "metadata": {},
   "outputs": [
    {
     "data": {
      "image/png": "[encoded data removed]",
      "text/plain": [
       "<matplotlib.figure.Figure at 0x1a237facf8>"
      ]
     },
     "metadata": {},
     "output_type": "display_data"
    }
   ],
   "source": [
    "committee = Committee(\n",
    "    K=2, N=100, alpha=0.5, ensemble_type=\"gaussian\", \n",
    "    prior_type=\"binary\", p_pos=0.5, activation1=\"sng\", activation2=\"sng\"\n",
    ")\n",
    "scenario = TeacherStudentScenario(committee, x_ids=[\"x_0\",\"x_1\"])\n",
    "scenario.setup()\n",
    "scenario.student.daft()"
   ]
  },
  {
   "cell_type": "code",
   "execution_count": 5,
   "metadata": {},
   "outputs": [
    {
     "name": "stdout",
     "output_type": "stream",
     "text": [
      "FORWARD\n"
     ]
    },
    {
     "data": {
      "text/latex": [
       "$\\mathrm{incoming}\\;p_\\pm \\leftarrow x_1\\;\\mathrm{outcoming}\\;p_\\pm \\rightarrow x_1$"
      ]
     },
     "metadata": {},
     "output_type": "display_data"
    },
    {
     "data": {
      "text/latex": [
       "$\\mathrm{incoming}\\;p_\\pm \\rightarrow x_1 \\leftarrow F\\;\\mathrm{outcoming}\\;x_1 \\rightarrow F$"
      ]
     },
     "metadata": {},
     "output_type": "display_data"
    },
    {
     "data": {
      "text/latex": [
       "$\\mathrm{incoming}\\;x_1 \\rightarrow F \\leftarrow z_1\\;\\mathrm{outcoming}\\;F \\rightarrow z_1$"
      ]
     },
     "metadata": {},
     "output_type": "display_data"
    },
    {
     "data": {
      "text/latex": [
       "$\\mathrm{incoming}\\;F \\rightarrow z_1 \\leftarrow \\mathrm{sng}\\;\\mathrm{outcoming}\\;z_1 \\rightarrow \\mathrm{sng}$"
      ]
     },
     "metadata": {},
     "output_type": "display_data"
    },
    {
     "data": {
      "text/latex": [
       "$\\mathrm{incoming}\\;z_1 \\rightarrow \\mathrm{sng} \\leftarrow a_1\\;\\mathrm{outcoming}\\;\\mathrm{sng} \\rightarrow a_1$"
      ]
     },
     "metadata": {},
     "output_type": "display_data"
    },
    {
     "data": {
      "text/latex": [
       "$\\mathrm{incoming}\\;\\mathrm{sng} \\rightarrow a_1 \\leftarrow \\Sigma\\;\\mathrm{outcoming}\\;a_1 \\rightarrow \\Sigma$"
      ]
     },
     "metadata": {},
     "output_type": "display_data"
    },
    {
     "data": {
      "text/latex": [
       "$\\mathrm{incoming}\\;p_\\pm \\leftarrow x_0\\;\\mathrm{outcoming}\\;p_\\pm \\rightarrow x_0$"
      ]
     },
     "metadata": {},
     "output_type": "display_data"
    },
    {
     "data": {
      "text/latex": [
       "$\\mathrm{incoming}\\;p_\\pm \\rightarrow x_0 \\leftarrow F\\;\\mathrm{outcoming}\\;x_0 \\rightarrow F$"
      ]
     },
     "metadata": {},
     "output_type": "display_data"
    },
    {
     "data": {
      "text/latex": [
       "$\\mathrm{incoming}\\;x_0 \\rightarrow F \\leftarrow z_0\\;\\mathrm{outcoming}\\;F \\rightarrow z_0$"
      ]
     },
     "metadata": {},
     "output_type": "display_data"
    },
    {
     "data": {
      "text/latex": [
       "$\\mathrm{incoming}\\;F \\rightarrow z_0 \\leftarrow \\mathrm{sng}\\;\\mathrm{outcoming}\\;z_0 \\rightarrow \\mathrm{sng}$"
      ]
     },
     "metadata": {},
     "output_type": "display_data"
    },
    {
     "data": {
      "text/latex": [
       "$\\mathrm{incoming}\\;z_0 \\rightarrow \\mathrm{sng} \\leftarrow a_0\\;\\mathrm{outcoming}\\;\\mathrm{sng} \\rightarrow a_0$"
      ]
     },
     "metadata": {},
     "output_type": "display_data"
    },
    {
     "data": {
      "text/latex": [
       "$\\mathrm{incoming}\\;\\mathrm{sng} \\rightarrow a_0 \\leftarrow \\Sigma\\;\\mathrm{outcoming}\\;a_0 \\rightarrow \\Sigma$"
      ]
     },
     "metadata": {},
     "output_type": "display_data"
    },
    {
     "data": {
      "text/latex": [
       "$\\mathrm{incoming}\\;a_0,a_1 \\rightarrow \\Sigma \\leftarrow a\\;\\mathrm{outcoming}\\;\\Sigma \\rightarrow a$"
      ]
     },
     "metadata": {},
     "output_type": "display_data"
    },
    {
     "data": {
      "text/latex": [
       "$\\mathrm{incoming}\\;\\Sigma \\rightarrow a \\leftarrow \\mathrm{sng}\\;\\mathrm{outcoming}\\;a \\rightarrow \\mathrm{sng}$"
      ]
     },
     "metadata": {},
     "output_type": "display_data"
    },
    {
     "data": {
      "text/latex": [
       "$\\mathrm{incoming}\\;a \\rightarrow \\mathrm{sng} \\leftarrow y\\;\\mathrm{outcoming}\\;\\mathrm{sng} \\rightarrow y$"
      ]
     },
     "metadata": {},
     "output_type": "display_data"
    },
    {
     "data": {
      "text/latex": [
       "$\\mathrm{incoming}\\;\\mathrm{sng} \\rightarrow y\\;\\mathrm{outcoming}\\;$"
      ]
     },
     "metadata": {},
     "output_type": "display_data"
    },
    {
     "name": "stdout",
     "output_type": "stream",
     "text": [
      "BACKWARD\n"
     ]
    },
    {
     "data": {
      "text/latex": [
       "$\\mathrm{incoming}\\;\\mathrm{sng} \\rightarrow y\\;\\mathrm{outcoming}\\;\\mathrm{sng} \\leftarrow y$"
      ]
     },
     "metadata": {},
     "output_type": "display_data"
    },
    {
     "data": {
      "text/latex": [
       "$\\mathrm{incoming}\\;a \\rightarrow \\mathrm{sng} \\leftarrow y\\;\\mathrm{outcoming}\\;a \\leftarrow \\mathrm{sng}$"
      ]
     },
     "metadata": {},
     "output_type": "display_data"
    },
    {
     "data": {
      "text/latex": [
       "$\\mathrm{incoming}\\;\\Sigma \\rightarrow a \\leftarrow \\mathrm{sng}\\;\\mathrm{outcoming}\\;\\Sigma \\leftarrow a$"
      ]
     },
     "metadata": {},
     "output_type": "display_data"
    },
    {
     "data": {
      "text/latex": [
       "$\\mathrm{incoming}\\;a_0,a_1 \\rightarrow \\Sigma \\leftarrow a\\;\\mathrm{outcoming}\\;a_0,a_1 \\leftarrow \\Sigma$"
      ]
     },
     "metadata": {},
     "output_type": "display_data"
    },
    {
     "data": {
      "text/latex": [
       "$\\mathrm{incoming}\\;\\mathrm{sng} \\rightarrow a_0 \\leftarrow \\Sigma\\;\\mathrm{outcoming}\\;\\mathrm{sng} \\leftarrow a_0$"
      ]
     },
     "metadata": {},
     "output_type": "display_data"
    },
    {
     "data": {
      "text/latex": [
       "$\\mathrm{incoming}\\;z_0 \\rightarrow \\mathrm{sng} \\leftarrow a_0\\;\\mathrm{outcoming}\\;z_0 \\leftarrow \\mathrm{sng}$"
      ]
     },
     "metadata": {},
     "output_type": "display_data"
    },
    {
     "data": {
      "text/latex": [
       "$\\mathrm{incoming}\\;F \\rightarrow z_0 \\leftarrow \\mathrm{sng}\\;\\mathrm{outcoming}\\;F \\leftarrow z_0$"
      ]
     },
     "metadata": {},
     "output_type": "display_data"
    },
    {
     "data": {
      "text/latex": [
       "$\\mathrm{incoming}\\;x_0 \\rightarrow F \\leftarrow z_0\\;\\mathrm{outcoming}\\;x_0 \\leftarrow F$"
      ]
     },
     "metadata": {},
     "output_type": "display_data"
    },
    {
     "data": {
      "text/latex": [
       "$\\mathrm{incoming}\\;p_\\pm \\rightarrow x_0 \\leftarrow F\\;\\mathrm{outcoming}\\;p_\\pm \\leftarrow x_0$"
      ]
     },
     "metadata": {},
     "output_type": "display_data"
    },
    {
     "data": {
      "text/latex": [
       "$\\mathrm{incoming}\\;p_\\pm \\leftarrow x_0\\;\\mathrm{outcoming}\\;$"
      ]
     },
     "metadata": {},
     "output_type": "display_data"
    },
    {
     "data": {
      "text/latex": [
       "$\\mathrm{incoming}\\;\\mathrm{sng} \\rightarrow a_1 \\leftarrow \\Sigma\\;\\mathrm{outcoming}\\;\\mathrm{sng} \\leftarrow a_1$"
      ]
     },
     "metadata": {},
     "output_type": "display_data"
    },
    {
     "data": {
      "text/latex": [
       "$\\mathrm{incoming}\\;z_1 \\rightarrow \\mathrm{sng} \\leftarrow a_1\\;\\mathrm{outcoming}\\;z_1 \\leftarrow \\mathrm{sng}$"
      ]
     },
     "metadata": {},
     "output_type": "display_data"
    },
    {
     "data": {
      "text/latex": [
       "$\\mathrm{incoming}\\;F \\rightarrow z_1 \\leftarrow \\mathrm{sng}\\;\\mathrm{outcoming}\\;F \\leftarrow z_1$"
      ]
     },
     "metadata": {},
     "output_type": "display_data"
    },
    {
     "data": {
      "text/latex": [
       "$\\mathrm{incoming}\\;x_1 \\rightarrow F \\leftarrow z_1\\;\\mathrm{outcoming}\\;x_1 \\leftarrow F$"
      ]
     },
     "metadata": {},
     "output_type": "display_data"
    },
    {
     "data": {
      "text/latex": [
       "$\\mathrm{incoming}\\;p_\\pm \\rightarrow x_1 \\leftarrow F\\;\\mathrm{outcoming}\\;p_\\pm \\leftarrow x_1$"
      ]
     },
     "metadata": {},
     "output_type": "display_data"
    },
    {
     "data": {
      "text/latex": [
       "$\\mathrm{incoming}\\;p_\\pm \\leftarrow x_1\\;\\mathrm{outcoming}\\;$"
      ]
     },
     "metadata": {},
     "output_type": "display_data"
    }
   ],
   "source": [
    "latex = DisplayLatexMessagePassing(committee).run()\n",
    "print(\"FORWARD\")\n",
    "for msg in latex[\"forward\"]:\n",
    "    display_latex(msg, raw=True)\n",
    "print(\"BACKWARD\")\n",
    "for msg in latex[\"backward\"]:\n",
    "    display_latex(msg, raw=True)"
   ]
  },
  {
   "cell_type": "markdown",
   "metadata": {},
   "source": [
    "## TV classification"
   ]
  },
  {
   "cell_type": "code",
   "execution_count": 6,
   "metadata": {},
   "outputs": [],
   "source": [
    "# fake data\n",
    "A = np.ones((3, 4*5))\n",
    "y = np.ones(3)\n",
    "x_shape = (4, 5)"
   ]
  },
  {
   "cell_type": "code",
   "execution_count": 7,
   "metadata": {},
   "outputs": [
    {
     "data": {
      "image/png": "[encoded data removed]",
      "text/plain": [
       "<matplotlib.figure.Figure at 0x1a237faf60>"
      ]
     },
     "metadata": {},
     "output_type": "display_data"
    }
   ],
   "source": [
    "from tramp.models import SparseGradientClassification\n",
    "sparse_grad = SparseGradientClassification(\n",
    "    A=A, x_shape=x_shape, y=y, rho_grad=0.3, var_noise=0.1, var_prior=1\n",
    ")\n",
    "sparse_grad.daft()"
   ]
  },
  {
   "cell_type": "code",
   "execution_count": 8,
   "metadata": {},
   "outputs": [
    {
     "name": "stdout",
     "output_type": "stream",
     "text": [
      "FORWARD\n"
     ]
    },
    {
     "data": {
      "text/latex": [
       "$\\mathrm{incoming}\\;\\rho \\leftarrow x'\\;\\mathrm{outcoming}\\;\\rho \\rightarrow x'$"
      ]
     },
     "metadata": {},
     "output_type": "display_data"
    },
    {
     "data": {
      "text/latex": [
       "$\\mathrm{incoming}\\;\\mathcal{N} \\leftarrow x\\;\\mathrm{outcoming}\\;\\mathcal{N} \\rightarrow x$"
      ]
     },
     "metadata": {},
     "output_type": "display_data"
    },
    {
     "data": {
      "text/latex": [
       "$\\mathrm{incoming}\\;\\mathcal{N} \\rightarrow x \\leftarrow \\nabla,A\\;\\mathrm{outcoming}\\;x \\rightarrow \\nabla,A$"
      ]
     },
     "metadata": {},
     "output_type": "display_data"
    },
    {
     "data": {
      "text/latex": [
       "$\\mathrm{incoming}\\;x \\rightarrow \\nabla \\leftarrow x'\\;\\mathrm{outcoming}\\;\\nabla \\rightarrow x'$"
      ]
     },
     "metadata": {},
     "output_type": "display_data"
    },
    {
     "data": {
      "text/latex": [
       "$\\mathrm{incoming}\\;\\nabla,\\rho \\rightarrow x'\\;\\mathrm{outcoming}\\;$"
      ]
     },
     "metadata": {},
     "output_type": "display_data"
    },
    {
     "data": {
      "text/latex": [
       "$\\mathrm{incoming}\\;x \\rightarrow A \\leftarrow z\\;\\mathrm{outcoming}\\;A \\rightarrow z$"
      ]
     },
     "metadata": {},
     "output_type": "display_data"
    },
    {
     "data": {
      "text/latex": [
       "$\\mathrm{incoming}\\;A \\rightarrow z \\leftarrow \\mathcal{N}\\;\\mathrm{outcoming}\\;z \\rightarrow \\mathcal{N}$"
      ]
     },
     "metadata": {},
     "output_type": "display_data"
    },
    {
     "data": {
      "text/latex": [
       "$\\mathrm{incoming}\\;z \\rightarrow \\mathcal{N} \\leftarrow a\\;\\mathrm{outcoming}\\;\\mathcal{N} \\rightarrow a$"
      ]
     },
     "metadata": {},
     "output_type": "display_data"
    },
    {
     "data": {
      "text/latex": [
       "$\\mathrm{incoming}\\;\\mathcal{N} \\rightarrow a \\leftarrow \\mathrm{sng}\\;\\mathrm{outcoming}\\;a \\rightarrow \\mathrm{sng}$"
      ]
     },
     "metadata": {},
     "output_type": "display_data"
    },
    {
     "data": {
      "text/latex": [
       "$\\mathrm{incoming}\\;a \\rightarrow \\mathrm{sng}\\;\\mathrm{outcoming}\\;$"
      ]
     },
     "metadata": {},
     "output_type": "display_data"
    },
    {
     "name": "stdout",
     "output_type": "stream",
     "text": [
      "BACKWARD\n"
     ]
    },
    {
     "data": {
      "text/latex": [
       "$\\mathrm{incoming}\\;a \\rightarrow \\mathrm{sng}\\;\\mathrm{outcoming}\\;a \\leftarrow \\mathrm{sng}$"
      ]
     },
     "metadata": {},
     "output_type": "display_data"
    },
    {
     "data": {
      "text/latex": [
       "$\\mathrm{incoming}\\;\\mathcal{N} \\rightarrow a \\leftarrow \\mathrm{sng}\\;\\mathrm{outcoming}\\;\\mathcal{N} \\leftarrow a$"
      ]
     },
     "metadata": {},
     "output_type": "display_data"
    },
    {
     "data": {
      "text/latex": [
       "$\\mathrm{incoming}\\;z \\rightarrow \\mathcal{N} \\leftarrow a\\;\\mathrm{outcoming}\\;z \\leftarrow \\mathcal{N}$"
      ]
     },
     "metadata": {},
     "output_type": "display_data"
    },
    {
     "data": {
      "text/latex": [
       "$\\mathrm{incoming}\\;A \\rightarrow z \\leftarrow \\mathcal{N}\\;\\mathrm{outcoming}\\;A \\leftarrow z$"
      ]
     },
     "metadata": {},
     "output_type": "display_data"
    },
    {
     "data": {
      "text/latex": [
       "$\\mathrm{incoming}\\;x \\rightarrow A \\leftarrow z\\;\\mathrm{outcoming}\\;x \\leftarrow A$"
      ]
     },
     "metadata": {},
     "output_type": "display_data"
    },
    {
     "data": {
      "text/latex": [
       "$\\mathrm{incoming}\\;\\nabla,\\rho \\rightarrow x'\\;\\mathrm{outcoming}\\;\\nabla,\\rho \\leftarrow x'$"
      ]
     },
     "metadata": {},
     "output_type": "display_data"
    },
    {
     "data": {
      "text/latex": [
       "$\\mathrm{incoming}\\;x \\rightarrow \\nabla \\leftarrow x'\\;\\mathrm{outcoming}\\;x \\leftarrow \\nabla$"
      ]
     },
     "metadata": {},
     "output_type": "display_data"
    },
    {
     "data": {
      "text/latex": [
       "$\\mathrm{incoming}\\;\\mathcal{N} \\rightarrow x \\leftarrow \\nabla,A\\;\\mathrm{outcoming}\\;\\mathcal{N} \\leftarrow x$"
      ]
     },
     "metadata": {},
     "output_type": "display_data"
    },
    {
     "data": {
      "text/latex": [
       "$\\mathrm{incoming}\\;\\mathcal{N} \\leftarrow x\\;\\mathrm{outcoming}\\;$"
      ]
     },
     "metadata": {},
     "output_type": "display_data"
    },
    {
     "data": {
      "text/latex": [
       "$\\mathrm{incoming}\\;\\rho \\leftarrow x'\\;\\mathrm{outcoming}\\;$"
      ]
     },
     "metadata": {},
     "output_type": "display_data"
    }
   ],
   "source": [
    "latex = DisplayLatexMessagePassing(sparse_grad).run()\n",
    "print(\"FORWARD\")\n",
    "for msg in latex[\"forward\"]:\n",
    "    display_latex(msg, raw=True)\n",
    "print(\"BACKWARD\")\n",
    "for msg in latex[\"backward\"]:\n",
    "    display_latex(msg, raw=True)"
   ]
  },
  {
   "cell_type": "code",
   "execution_count": null,
   "metadata": {},
   "outputs": [],
   "source": []
  }
 ],
 "metadata": {
  "hide_input": false,
  "kernelspec": {
   "display_name": "Python 3",
   "language": "python",
   "name": "python3"
  },
  "language_info": {
   "codemirror_mode": {
    "name": "ipython",
    "version": 3
   },
   "file_extension": ".py",
   "mimetype": "text/x-python",
   "name": "python",
   "nbconvert_exporter": "python",
   "pygments_lexer": "ipython3",
   "version": "3.6.4"
  },
  "toc": {
   "base_numbering": 1,
   "nav_menu": {},
   "number_sections": true,
   "sideBar": true,
   "skip_h1_title": false,
   "title_cell": "Table of Contents",
   "title_sidebar": "Contents",
   "toc_cell": false,
   "toc_position": {},
   "toc_section_display": true,
   "toc_window_display": false
  }
 },
 "nbformat": 4,
 "nbformat_minor": 2
}
