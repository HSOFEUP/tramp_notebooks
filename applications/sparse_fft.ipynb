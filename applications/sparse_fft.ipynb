{
 "cells": [
  {
   "cell_type": "markdown",
   "metadata": {},
   "source": [
    "# Sparse Fourier Transform"
   ]
  },
  {
   "cell_type": "markdown",
   "metadata": {},
   "source": [
    "## Setup"
   ]
  },
  {
   "cell_type": "code",
   "execution_count": 1,
   "metadata": {},
   "outputs": [],
   "source": [
    "%matplotlib inline\n",
    "import numpy as np, pandas as pd, matplotlib.pyplot as plt\n",
    "import logging\n",
    "logging.basicConfig(level=logging.INFO)\n",
    "plt.rc(\"text\", usetex=True)\n",
    "plt.rc('font', family='serif', size=14)"
   ]
  },
  {
   "cell_type": "code",
   "execution_count": 2,
   "metadata": {},
   "outputs": [],
   "source": [
    "def plot_compare(x_true, x_pred):\n",
    "    fig, axs = plt.subplots(1, 3, figsize=(9, 3))\n",
    "    axs[0].plot(x_pred[\"x\"], label=\"pred\")\n",
    "    axs[0].plot(x_true[\"x\"], label=\"true\")\n",
    "    axs[0].legend()\n",
    "    axs[0].set(xlabel=r\"$t$\", ylabel=r\"$x(t)$\")\n",
    "    axs[1].plot(x_pred[\"z\"][0], label=\"pred\")\n",
    "    axs[1].plot(x_true[\"z\"][0], label=\"true\")\n",
    "    axs[1].legend()\n",
    "    axs[1].set(xlabel=r\"$\\omega$\", ylabel=r\"$\\hat{x}(\\omega)$\", title=\"real\")\n",
    "    axs[2].plot(x_pred[\"z\"][1], label=\"pred\")\n",
    "    axs[2].plot(x_true[\"z\"][1], label=\"true\")\n",
    "    axs[2].legend()\n",
    "    axs[2].set(xlabel=r\"$\\omega$\", ylabel=r\"$\\hat{x}(\\omega)$\", title=\"imag\")\n",
    "    fig.tight_layout()\n",
    "    \n",
    "def plot_data(x, y):\n",
    "    fig, ax = plt.subplots(1, 1, figsize=(3, 3))\n",
    "    ax.plot(x, label=r\"$x(t)$\")\n",
    "    ax.plot(y, \".\", label=r\"$y(t)$\")\n",
    "    ax.legend()\n",
    "    ax.set(xlabel=r\"$t$\")"
   ]
  },
  {
   "cell_type": "code",
   "execution_count": 3,
   "metadata": {},
   "outputs": [],
   "source": [
    "from tramp.variables import SISOVariable as V, SILeafVariable as O, MILeafVariable, SIMOVariable \n",
    "from tramp.channels import DFTChannel, GaussianChannel \n",
    "from tramp.priors import GaussBernouilliPrior, GaussianPrior\n",
    "from tramp.experiments import TeacherStudentScenario"
   ]
  },
  {
   "cell_type": "markdown",
   "metadata": {},
   "source": [
    "## Sparse FFT denoising\n",
    "\n",
    "We use sparsity of FFT $z = \\hat{x}$ as prior information."
   ]
  },
  {
   "cell_type": "code",
   "execution_count": 4,
   "metadata": {},
   "outputs": [],
   "source": [
    "class SparseFFT_Teacher():\n",
    "    def __init__(self, size, noise_var):\n",
    "        self.t = np.linspace(-2*np.pi,2*np.pi, size, endpoint=False)\n",
    "        self.channel = GaussianChannel(var=noise_var)\n",
    "    def sample(self, seed=None, verbose=False):\n",
    "        if seed:\n",
    "            np.random.seed(seed)\n",
    "        x = np.cos(self.t) + np.sin(2*self.t)\n",
    "        z = DFTChannel(real=True).sample(x)\n",
    "        nonzero = (np.abs(z) > 1e-11)\n",
    "        y = self.channel.sample(x)\n",
    "        if verbose:\n",
    "            print(\n",
    "                f\"SparseFFT_Teacher: var(x) = {x.var(): .3f} \"\n",
    "                f\"rho(z)={nonzero.mean(): .3f} var(z)={z[nonzero].var(): .3f}\"\n",
    "            )\n",
    "        return {\"x\":x, \"z\":z, \"y\":y}"
   ]
  },
  {
   "cell_type": "code",
   "execution_count": 5,
   "metadata": {},
   "outputs": [],
   "source": [
    "def get_sparse_fft_student(size, prior_var, fft_rho, fft_var, noise_var):\n",
    "    x_shape = (size,)\n",
    "    fft_shape = (2,) + x_shape\n",
    "    student = (\n",
    "        GaussianPrior(size=size, var=prior_var) @\n",
    "        SIMOVariable(id=\"x\", n_next=2) @ (\n",
    "            GaussianChannel(var=noise_var) @ O(\"y\") + (\n",
    "                DFTChannel(real=True) +\n",
    "                GaussBernouilliPrior(size=fft_shape, var=fft_var, rho=fft_rho)\n",
    "            ) @\n",
    "            MILeafVariable(id=\"z\", n_prev=2)\n",
    "        )\n",
    "    ).to_model()\n",
    "    return student"
   ]
  },
  {
   "cell_type": "code",
   "execution_count": 6,
   "metadata": {},
   "outputs": [
    {
     "name": "stdout",
     "output_type": "stream",
     "text": [
      "SparseFFT_Teacher: var(x) =  1.000 rho(z)= 0.020 var(z)= 18.750\n"
     ]
    }
   ],
   "source": [
    "s = SparseFFT_Teacher(size=100, noise_var=0.1).sample(verbose=True)"
   ]
  },
  {
   "cell_type": "code",
   "execution_count": 7,
   "metadata": {},
   "outputs": [],
   "source": [
    "teacher = SparseFFT_Teacher(size=100, noise_var=0.1)\n",
    "student = get_sparse_fft_student(size=100,  prior_var=1, fft_rho=0.02, fft_var=18, noise_var=0.1)\n",
    "scenario = TeacherStudentScenario(teacher, student, x_ids=[\"x\", \"z\"])"
   ]
  },
  {
   "cell_type": "code",
   "execution_count": 8,
   "metadata": {},
   "outputs": [
    {
     "data": {
      "image/png": "[encoded data removed]",
      "text/plain": [
       "<Figure size 232.441x172.913 with 1 Axes>"
      ]
     },
     "metadata": {},
     "output_type": "display_data"
    }
   ],
   "source": [
    "scenario.setup(seed=1)\n",
    "scenario.student.plot()"
   ]
  },
  {
   "cell_type": "code",
   "execution_count": 9,
   "metadata": {},
   "outputs": [
    {
     "data": {
      "image/png": "[encoded data removed]",
      "text/plain": [
       "<Figure size 216x216 with 1 Axes>"
      ]
     },
     "metadata": {
      "needs_background": "light"
     },
     "output_type": "display_data"
    }
   ],
   "source": [
    "plot_data(scenario.x_true[\"x\"], scenario.observations[\"y\"])"
   ]
  },
  {
   "cell_type": "code",
   "execution_count": 10,
   "metadata": {},
   "outputs": [
    {
     "name": "stderr",
     "output_type": "stream",
     "text": [
      "INFO:tramp.algos.message_passing:init message dag with ConstantInit(a=0,b=0)\n",
      "INFO:tramp.algos.message_passing:no damping\n",
      "INFO:tramp.algos.callbacks:early stopping all tolerances (on r) are below tol=1.00e-02\n",
      "INFO:tramp.algos.message_passing:terminated after n_iter=4 iterations\n"
     ]
    }
   ],
   "source": [
    "from tramp.algos import EarlyStoppingEP\n",
    "_ = scenario.run_ep(max_iter=200, damping=0, callback=EarlyStoppingEP(tol=1e-2))"
   ]
  },
  {
   "cell_type": "code",
   "execution_count": 11,
   "metadata": {},
   "outputs": [
    {
     "data": {
      "image/png": "[encoded data removed]",
      "text/plain": [
       "<Figure size 648x216 with 3 Axes>"
      ]
     },
     "metadata": {
      "needs_background": "light"
     },
     "output_type": "display_data"
    }
   ],
   "source": [
    "plot_compare(scenario.x_pred, scenario.x_true)"
   ]
  },
  {
   "cell_type": "code",
   "execution_count": null,
   "metadata": {},
   "outputs": [],
   "source": []
  }
 ],
 "metadata": {
  "hide_input": false,
  "kernelspec": {
   "display_name": "Python 3",
   "language": "python",
   "name": "python3"
  },
  "language_info": {
   "codemirror_mode": {
    "name": "ipython",
    "version": 3
   },
   "file_extension": ".py",
   "mimetype": "text/x-python",
   "name": "python",
   "nbconvert_exporter": "python",
   "pygments_lexer": "ipython3",
   "version": "3.7.3"
  },
  "toc": {
   "base_numbering": 1,
   "nav_menu": {},
   "number_sections": true,
   "sideBar": true,
   "skip_h1_title": false,
   "title_cell": "Table of Contents",
   "title_sidebar": "Contents",
   "toc_cell": false,
   "toc_position": {},
   "toc_section_display": true,
   "toc_window_display": false
  }
 },
 "nbformat": 4,
 "nbformat_minor": 2
}
